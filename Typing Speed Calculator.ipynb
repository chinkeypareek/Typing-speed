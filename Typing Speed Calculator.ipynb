{
 "cells": [
  {
   "cell_type": "code",
   "execution_count": 1,
   "id": "9c4b61dc",
   "metadata": {},
   "outputs": [
    {
     "name": "stdout",
     "output_type": "stream",
     "text": [
      "Note: you may need to restart the kernel to use updated packages.\n"
     ]
    },
    {
     "name": "stderr",
     "output_type": "stream",
     "text": [
      "ERROR: Could not find a version that satisfies the requirement time (from versions: none)\n",
      "ERROR: No matching distribution found for time\n"
     ]
    }
   ],
   "source": [
    "pip install time"
   ]
  },
  {
   "cell_type": "code",
   "execution_count": 2,
   "id": "a3edc9bf",
   "metadata": {},
   "outputs": [],
   "source": [
    "import time"
   ]
  },
  {
   "cell_type": "code",
   "execution_count": 3,
   "id": "866edeef",
   "metadata": {},
   "outputs": [],
   "source": [
    "from time import *\n",
    "import random as r"
   ]
  },
  {
   "cell_type": "code",
   "execution_count": null,
   "id": "9cf5c798",
   "metadata": {},
   "outputs": [
    {
     "name": "stdout",
     "output_type": "stream",
     "text": [
      "\t\t-----------------------------TYPING SPEED CALCULATOR----------------------------------------\n",
      "\n",
      "String - My name is Chinkey pareek\n"
     ]
    }
   ],
   "source": [
    "def errors(defaultstr,userstr):\n",
    "    error = 0\n",
    "    for k in range(len(defaultstr)):\n",
    "        try:\n",
    "            if defaultstr[k]!=userstr[k]:\n",
    "                error = error +1\n",
    "        except Exception as e:\n",
    "            error = error +1\n",
    "    \n",
    "    return error\n",
    "\n",
    "def timeduration(time_1,time_2,userinput):\n",
    "    time_delay=time_2 - time_1\n",
    "    time_round= round(time_delay,2)\n",
    "    speed = len(userinput)/time_round\n",
    "    speed_r=round(speed)\n",
    "    return speed_r\n",
    "    \n",
    "    \n",
    "teststr=[\"My name is Chinkey pareek\",\"I am a Data Science student\",\"Defaulting to user installation because normal site packages is not writeable\"]\n",
    "print(\"\\t\\t-----------------------------TYPING SPEED CALCULATOR----------------------------------------\")\n",
    "test1=r.choice(teststr)\n",
    "print(\"\\nString -\",test1)\n",
    "time1=time()\n",
    "usrinput=input(\"\\nType this - \") \n",
    "time2=time()\n",
    "\n",
    "print(\"\\nSpeed - \",timeduration(time1,time2,usrinput),\" word/sec\")\n",
    "print(\"Errors - \",errors(test1,usrinput))"
   ]
  },
  {
   "cell_type": "code",
   "execution_count": null,
   "id": "b9be902f",
   "metadata": {},
   "outputs": [],
   "source": []
  },
  {
   "cell_type": "code",
   "execution_count": null,
   "id": "99aeda29",
   "metadata": {},
   "outputs": [],
   "source": []
  },
  {
   "cell_type": "code",
   "execution_count": null,
   "id": "22300ed3",
   "metadata": {},
   "outputs": [],
   "source": []
  }
 ],
 "metadata": {
  "kernelspec": {
   "display_name": "Python 3 (ipykernel)",
   "language": "python",
   "name": "python3"
  },
  "language_info": {
   "codemirror_mode": {
    "name": "ipython",
    "version": 3
   },
   "file_extension": ".py",
   "mimetype": "text/x-python",
   "name": "python",
   "nbconvert_exporter": "python",
   "pygments_lexer": "ipython3",
   "version": "3.10.9"
  }
 },
 "nbformat": 4,
 "nbformat_minor": 5
}
